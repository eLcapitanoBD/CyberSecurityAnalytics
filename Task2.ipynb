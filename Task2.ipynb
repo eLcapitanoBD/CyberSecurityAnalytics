{
 "cells": [
  {
   "cell_type": "markdown",
   "id": "15aae3ca",
   "metadata": {},
   "source": [
    "# <img src=\"http://www.cems.uwe.ac.uk/~pa-legg/images/uwe_banner.png\">\n",
    "\n",
    "# UFCFFY-15-M Cyber Security Analytics\n",
    "\n",
    "# Portfolio Task 2:\n",
    "## Conduct an investigation on a URL database to develop a DGA classification system using machine learning techniques \n",
    "---\n",
    "\n",
    "**Student Name:** Md Abdullah Al Faruk<br>\n",

    "<b>Module Instructor:</b> Dr Phil Legg"
   ]
  },
  {
   "cell_type": "markdown",
   "id": "5dffa4aa",
   "metadata": {},
   "source": [
    "#### Provided Materials:\n",
    "A data set of URLs based on DGA.\n",
    "\n",
    "#### Goals:\n",
    "To develop a machine learning tool using Python and scikit-learn that can identify URLs based on DGA by deriving a suitable set of features from the data for developing a machine learning classifier using Python data science libraries and compare the results of 3 different classifiers - Logistic Regression, Random Forest and MLP Classifier\n",
    "by using the scikit-learn library, and provide a confusion matrix and an accuracy score for each classifier\n"
   ]
  },
  {
   "cell_type": "markdown",
   "id": "a694d312",
   "metadata": {},
   "source": [
    "---\n",
    "### Step 1: Importing Necessary Libraries\n",
    "At the very beginning all required libraries are imported.\n",
    "\n",
    "---"
   ]
  },
  {
   "cell_type": "code",
   "execution_count": 1,
   "id": "3a182039",
   "metadata": {},
   "outputs": [],
   "source": [
    "import pandas as pd\n",
    "import numpy as np\n",
    "import matplotlib.pyplot as plt\n",
    "import sklearn\n",
    "\n",
    "\n",
    "from collections import Counter\n",
    "from timeit import timeit\n",
    "from publicsuffixlist import PublicSuffixList\n",
    "import math\n",
    "import tldextract\n",
    "\n",
    "from sklearn.ensemble import RandomForestClassifier\n",
    "from sklearn.feature_extraction.text import CountVectorizer\n",
    "from sklearn.linear_model import LogisticRegression\n",
    "from sklearn.metrics import accuracy_score, confusion_matrix, ConfusionMatrixDisplay\n",
    "from sklearn.model_selection import train_test_split\n",
    "from sklearn.neural_network import MLPClassifier\n",
    "from sklearn.preprocessing import LabelEncoder\n",
    "from sklearn import datasets\n",
    "from sklearn.metrics import classification_report\n",
    "from sklearn.metrics import plot_confusion_matrix\n",
    "from sklearn.feature_extraction.text import CountVectorizer\n",
    "from sklearn.preprocessing import StandardScaler\n",
    "#pd.set_option('display.max_rows', 24000)"
   ]
  },
  {
   "cell_type": "markdown",
   "id": "b1d449dc",
   "metadata": {},
   "source": [
    "---\n",
    "### Step 2: Importing Dataset\n",
    "After importing the libraries provided data set will be loaded. (This portion is provided)\n",
    "\n",
    "---"
   ]
  },
  {
   "cell_type": "code",
   "execution_count": 2,
   "id": "9b6ccf49",
   "metadata": {
    "scrolled": false
   },
   "outputs": [
    {
     "data": {
      "text/html": [
       "<div>\n",
       "<style scoped>\n",
       "    .dataframe tbody tr th:only-of-type {\n",
       "        vertical-align: middle;\n",
       "    }\n",
       "\n",
       "    .dataframe tbody tr th {\n",
       "        vertical-align: top;\n",
       "    }\n",
       "\n",
       "    .dataframe thead th {\n",
       "        text-align: right;\n",
       "    }\n",
       "</style>\n",
       "<table border=\"1\" class=\"dataframe\">\n",
       "  <thead>\n",
       "    <tr style=\"text-align: right;\">\n",
       "      <th></th>\n",
       "      <th>Domain</th>\n",
       "      <th>Family</th>\n",
       "    </tr>\n",
       "  </thead>\n",
       "  <tbody>\n",
       "    <tr>\n",
       "      <th>0</th>\n",
       "      <td>google.com</td>\n",
       "      <td>benign</td>\n",
       "    </tr>\n",
       "    <tr>\n",
       "      <th>1</th>\n",
       "      <td>facebook.com</td>\n",
       "      <td>benign</td>\n",
       "    </tr>\n",
       "    <tr>\n",
       "      <th>2</th>\n",
       "      <td>youtube.com</td>\n",
       "      <td>benign</td>\n",
       "    </tr>\n",
       "    <tr>\n",
       "      <th>3</th>\n",
       "      <td>twitter.com</td>\n",
       "      <td>benign</td>\n",
       "    </tr>\n",
       "    <tr>\n",
       "      <th>4</th>\n",
       "      <td>instagram.com</td>\n",
       "      <td>benign</td>\n",
       "    </tr>\n",
       "  </tbody>\n",
       "</table>\n",
       "</div>"
      ],
      "text/plain": [
       "          Domain  Family\n",
       "0     google.com  benign\n",
       "1   facebook.com  benign\n",
       "2    youtube.com  benign\n",
       "3    twitter.com  benign\n",
       "4  instagram.com  benign"
      ]
     },
     "execution_count": 2,
     "metadata": {},
     "output_type": "execute_result"
    }
   ],
   "source": [
    "df = pd.read_csv('./dga-24000.csv')\n",
    "df.head()"
   ]
  },
  {
   "cell_type": "markdown",
   "id": "324a3d49",
   "metadata": {},
   "source": [
    "---\n",
    "### Step 3: Extracting Features, Pre-processing and Final Processing of Features\n",
    "After the initial steps, such as importing libraries and dataset the most important part of this task is performed which is feature extraction. </br>\n",
    "In machine learning feature extraction plays a crucial role to achieve the desired outcome.</br>\n",
    "There are numerous amounts of options in term of choosing features to develop a ML tool for detecting DGA based URLs.</br>\n",
    "\n",
    "\n",
    "---"
   ]
  },
  {
   "cell_type": "markdown",
   "id": "446052c5",
   "metadata": {},
   "source": [
    "---\n",
    "#### Step 3.1: Extracting TLD, Second Level Domain and Subdomain\n",
    "In an URL there are several parts having different meanings. Such as- in 'mail.google.com', <b>'com'</b> is the top-level domain, <b>'google'</b> is second level domain and <b>'mail'</b> is the subdomain.</br>There can be several parts of a subdomain and top-level domain.</br>\n",
    "So, at the beginning the top-level domain, second level domain and subdomain will be extracted from the dataset's domain column by using Python's <b>tldextract</b> libary.</br><br>\n",
    "For the ease of understanding, I have created another dataframe for visualising the extracted data along with other necessary data.\n",
    "\n",
    "\n",
    "---"
   ]
  },
  {
   "cell_type": "code",
   "execution_count": 3,
   "id": "5acc2ad1",
   "metadata": {},
   "outputs": [],
   "source": [
    "initFeature = pd.DataFrame()\n",
    "initFeature['URL'] = df['Domain']\n",
    "initFeature['SLD'] = df['Domain'].apply(lambda url: tldextract.extract(url).domain)  #Second Level Domain\n",
    "initFeature['TLD'] = df['Domain'].apply(lambda url: tldextract.extract(url).suffix)  #Top Level Domain\n",
    "initFeature['SD'] = df['Domain'].apply(lambda url: tldextract.extract(url).subdomain)#Subdomain\n",
    "initFeature['Class'] = df['Family']"
   ]
  },
  {
   "cell_type": "code",
   "execution_count": 4,
   "id": "a4a0682b",
   "metadata": {},
   "outputs": [
    {
     "data": {
      "text/html": [
       "<div>\n",
       "<style scoped>\n",
       "    .dataframe tbody tr th:only-of-type {\n",
       "        vertical-align: middle;\n",
       "    }\n",
       "\n",
       "    .dataframe tbody tr th {\n",
       "        vertical-align: top;\n",
       "    }\n",
       "\n",
       "    .dataframe thead th {\n",
       "        text-align: right;\n",
       "    }\n",
       "</style>\n",
       "<table border=\"1\" class=\"dataframe\">\n",
       "  <thead>\n",
       "    <tr style=\"text-align: right;\">\n",
       "      <th></th>\n",
       "      <th>URL</th>\n",
       "      <th>SLD</th>\n",
       "      <th>TLD</th>\n",
       "      <th>SD</th>\n",
       "      <th>Class</th>\n",
       "    </tr>\n",
       "  </thead>\n",
       "  <tbody>\n",
       "    <tr>\n",
       "      <th>23995</th>\n",
       "      <td>fhyibfwhpahb.su</td>\n",
       "      <td>fhyibfwhpahb</td>\n",
       "      <td>su</td>\n",
       "      <td></td>\n",
       "      <td>locky</td>\n",
       "    </tr>\n",
       "    <tr>\n",
       "      <th>23996</th>\n",
       "      <td>nlgusntqeqixnqyo.org</td>\n",
       "      <td>nlgusntqeqixnqyo</td>\n",
       "      <td>org</td>\n",
       "      <td></td>\n",
       "      <td>locky</td>\n",
       "    </tr>\n",
       "    <tr>\n",
       "      <th>23997</th>\n",
       "      <td>awwduqqrjxttmn.su</td>\n",
       "      <td>awwduqqrjxttmn</td>\n",
       "      <td>su</td>\n",
       "      <td></td>\n",
       "      <td>locky</td>\n",
       "    </tr>\n",
       "    <tr>\n",
       "      <th>23998</th>\n",
       "      <td>ccxmwif.pl</td>\n",
       "      <td>ccxmwif</td>\n",
       "      <td>pl</td>\n",
       "      <td></td>\n",
       "      <td>locky</td>\n",
       "    </tr>\n",
       "    <tr>\n",
       "      <th>23999</th>\n",
       "      <td>yhrryqjimvgfbqrv.pw</td>\n",
       "      <td>yhrryqjimvgfbqrv</td>\n",
       "      <td>pw</td>\n",
       "      <td></td>\n",
       "      <td>locky</td>\n",
       "    </tr>\n",
       "  </tbody>\n",
       "</table>\n",
       "</div>"
      ],
      "text/plain": [
       "                        URL               SLD  TLD SD  Class\n",
       "23995       fhyibfwhpahb.su      fhyibfwhpahb   su     locky\n",
       "23996  nlgusntqeqixnqyo.org  nlgusntqeqixnqyo  org     locky\n",
       "23997     awwduqqrjxttmn.su    awwduqqrjxttmn   su     locky\n",
       "23998            ccxmwif.pl           ccxmwif   pl     locky\n",
       "23999   yhrryqjimvgfbqrv.pw  yhrryqjimvgfbqrv   pw     locky"
      ]
     },
     "execution_count": 4,
     "metadata": {},
     "output_type": "execute_result"
    }
   ],
   "source": [
    "initFeature.tail()"
   ]
  },
  {
   "cell_type": "markdown",
   "id": "7eb248ec",
   "metadata": {},
   "source": [
    "---\n",
    "#### Step 3.2: Feature extraction\n",
    "In a new dataframe I started to store the extracted features that I will be using in the classifiers. Ikwu(2021) has discussed about several types of features that can be extracted from an URL, such as, lexical, host-based or content features.<br>\n",
    "I have used several lexical features guided in this material.\n",
    "\n",
    "---"
   ]
  },
  {
   "cell_type": "code",
   "execution_count": 5,
   "id": "4cfe66a2",
   "metadata": {},
   "outputs": [],
   "source": [
    "featuresTable = pd.DataFrame()\n",
    "featuresTable['URL'] = initFeature['URL']\n",
    "featuresTable['TLD'] = initFeature['TLD']\n",
    "featuresTable['SLD'] = initFeature['SLD']"
   ]
  },
  {
   "cell_type": "markdown",
   "id": "83d8b125",
   "metadata": {},
   "source": [
    "---\n",
    "#### Step 3.2.1: Find the length of top-level domain\n",
    "\n",
    "---"
   ]
  },
  {
   "cell_type": "code",
   "execution_count": 6,
   "id": "695e3057",
   "metadata": {},
   "outputs": [],
   "source": [
    "featuresTable['Length of TLD'] = initFeature['TLD'].str.len() - initFeature['TLD'].str.count('\\.')"
   ]
  },
  {
   "cell_type": "markdown",
   "id": "4982422c",
   "metadata": {},
   "source": [
    "----\n",
    "#### Step 3.2.2: Find the length of second-level domain\n",
    "As a feture the length of second-level domain is calculated as follows and added with featuresTable dataframe.\n",
    "\n",
    "---"
   ]
  },
  {
   "cell_type": "code",
   "execution_count": 7,
   "id": "3951db1b",
   "metadata": {},
   "outputs": [],
   "source": [
    "featuresTable['Length of SLD'] = initFeature['SLD'].str.len()"
   ]
  },
  {
   "cell_type": "markdown",
   "id": "4612a67e",
   "metadata": {},
   "source": [
    "----\n",
    "#### Step 3.2.3: Find the number of subdomains\n",
    "As a feature the number of subdomains is calculated and added with the dataframe.\n",
    "\n",
    "---"
   ]
  },
  {
   "cell_type": "code",
   "execution_count": 8,
   "id": "cf8fdd2f",
   "metadata": {},
   "outputs": [],
   "source": [
    "featuresTable['Number of Subdomains'] = initFeature['SD'].str.count('\\.')+1"
   ]
  },
  {
   "cell_type": "markdown",
   "id": "054d2e75",
   "metadata": {},
   "source": [
    "----\n",
    "#### Step 3.2.4: Find the length of subdomains\n",
    "As a feature the collective length of all the subdomains under a second-level domain is calculated and added with the dataframe.\n",
    "\n",
    "---"
   ]
  },
  {
   "cell_type": "code",
   "execution_count": 9,
   "id": "bfb7ee41",
   "metadata": {},
   "outputs": [],
   "source": [
    "featuresTable['Length of Subdomains'] = initFeature['SD'].str.len() - initFeature['SD'].str.count('\\.')"
   ]
  },
  {
   "cell_type": "markdown",
   "id": "6f6156d7",
   "metadata": {},
   "source": [
    "---\n",
    "#### Step 3.2.5: Find the presence of digits\n",
    "As a feature the presence of digits is looked up.\n",
    "\n",
    "---"
   ]
  },
  {
   "cell_type": "code",
   "execution_count": 10,
   "id": "e58da543",
   "metadata": {
    "scrolled": false
   },
   "outputs": [],
   "source": [
    "featuresTable['Presence of Digits'] = initFeature['URL'].str.contains('1|2|3|4|5|6|7|8|9|0', regex=True)"
   ]
  },
  {
   "cell_type": "markdown",
   "id": "acd91d64",
   "metadata": {},
   "source": [
    "---\n",
    "#### Step 3.2.6: Find the ratio of digits  \n",
    "As a feature the ratio of digits is calculated.\n",
    "\n",
    "---"
   ]
  },
  {
   "cell_type": "code",
   "execution_count": 11,
   "id": "c906db6c",
   "metadata": {},
   "outputs": [],
   "source": [
    "featuresTable['Ratio of Digits'] = initFeature['URL'].str.count('1|2|3|4|5|6|7|8|9|0')/(featuresTable['Length of SLD']+featuresTable['Length of Subdomains']).fillna(0)\n"
   ]
  },
  {
   "cell_type": "markdown",
   "id": "4f8e8a2c",
   "metadata": {
    "scrolled": true
   },
   "source": [
    "---\n",
    "#### Step 3.2.7: Find the ratio of vowels \n",
    "As a feature the ratio of vowels is calculated.\n",
    "\n",
    "---"
   ]
  },
  {
   "cell_type": "code",
   "execution_count": 12,
   "id": "a2937f38",
   "metadata": {},
   "outputs": [],
   "source": [
    "featuresTable['Ratio of Vowels'] = (featuresTable['SLD'].str.count('a|e|i|o|u|A|E|I|O|U') + \n",
    "                                    initFeature['SD'].str.count('a|e|i|o|u|A|E|I|O|U')) / (featuresTable['Length of SLD']+featuresTable['Length of Subdomains']).fillna(0)\n"
   ]
  },
  {
   "cell_type": "markdown",
   "id": "f632278a",
   "metadata": {},
   "source": [
    "---\n",
    "#### Step 3.2.8: Find the ratio of consonants \n",
    "As a feature the ratio of consonants is calculated.\n",
    "\n",
    "---"
   ]
  },
  {
   "cell_type": "code",
   "execution_count": 13,
   "id": "70d1490a",
   "metadata": {},
   "outputs": [],
   "source": [
    "featuresTable['Ratio of Consonants'] = ((featuresTable['Length of SLD'] +featuresTable['Length of Subdomains'])-\n",
    "                                        ((featuresTable['SLD'].str.count('a|e|i|o|u|A|E|I|O|U|1|2|3|4|5|6|7|8|9|0')+\n",
    "                                          initFeature['SD'].str.count('a|e|i|o|u|A|E|I|O|U|1|2|3|4|5|6|7|8|9|0')))) / (featuresTable['Length of SLD']+featuresTable['Length of Subdomains']).fillna(0)\n",
    "\n",
    "                                             "
   ]
  },
  {
   "cell_type": "markdown",
   "id": "a129ad1b",
   "metadata": {},
   "source": [
    "---\n",
    "#### Step 3.2.9: Find the entropy of the URLs\n",
    "As a feature the entropy is calculated.<br><br>\n",
    "For finding the entropy of each domain, I have followed the method by Zhang, Zhou and Dai (2022).\n",
    "\n",
    "---"
   ]
  },
  {
   "cell_type": "code",
   "execution_count": 14,
   "id": "38ef5d99",
   "metadata": {
    "scrolled": true
   },
   "outputs": [],
   "source": [
    "def entropy(string):\n",
    "    prob = [float(string.count(c)) / len(string) for c in dict.fromkeys(list(string))] #To get the probability of chars in string\n",
    "\n",
    "    entropy = - sum([ p * math.log(p) / math.log(2.0) for p in prob ]) #To calculate the entropy\n",
    "\n",
    "    return entropy\n",
    "\n",
    "def entropyExtract():\n",
    "    featuresTable['Entropy']= (featuresTable['SLD'].apply(lambda x: entropy(x))+\n",
    "                               initFeature['SD'].apply(lambda x: entropy(x)))\n",
    "\n",
    "entropyExtract()"
   ]
  },
  {
   "cell_type": "markdown",
   "id": "02d98f55",
   "metadata": {},
   "source": [
    "---\n",
    "#### Step 3.2.10: Find the N-Gram of the URLs\n",
    "As a feature the N-Gram is calculated for each Domains.<br><br>\n",
    "For finding the N-Grams I have followed the methods discussed in SKLearn (2018) and used by Sconzo (2022).\n",
    "\n",
    "\n",
    "---"
   ]
  },
  {
   "cell_type": "code",
   "execution_count": 15,
   "id": "e4b71344",
   "metadata": {},
   "outputs": [],
   "source": [
    "word_df = pd.read_fwf('./words.txt', names=['word'], header=None, dtype={'word': str}, encoding='utf-8')\n",
    "word_df = word_df[word_df['word'].map(lambda x: str(x).isalpha())]\n",
    "word_df = word_df.applymap(lambda x: str(x).strip().lower())\n",
    "word_df = word_df.dropna()\n",
    "word_df = word_df.drop_duplicates()\n",
    "#word_dataframe.head(10) "
   ]
  },
  {
   "cell_type": "code",
   "execution_count": 16,
   "id": "d396a2a9",
   "metadata": {},
   "outputs": [],
   "source": [
    "dict_vc = sklearn.feature_extraction.text.CountVectorizer(analyzer='char', ngram_range=(3,5), min_df=1e-5, max_df=1.0)\n",
    "counts_matrix = dict_vc.fit_transform(word_df['word'])\n",
    "dict_counts = np.log10(counts_matrix.sum(axis=0).getA1())\n",
    "ngrams_list = dict_vc.get_feature_names_out()\n",
    "\n",
    "def ngram_count(domain):\n",
    "    dict_match = dict_counts * dict_vc.transform([domain]).T"
   ]
  },
  {
   "cell_type": "markdown",
   "id": "24a55a89",
   "metadata": {},
   "source": [
    "---\n",
    "Here, a list of dictionary words is read, named <b>words.txt</b> collected from Sconzo (2022).\n",
    "\n",
    "---"
   ]
  },
  {
   "cell_type": "code",
   "execution_count": 17,
   "id": "8d82c5cf",
   "metadata": {},
   "outputs": [],
   "source": [
    "featuresTable['Word Gram_URL']= dict_counts * dict_vc.transform(initFeature['URL']).T\n",
    "featuresTable['Word Gram_SLD']= dict_counts * dict_vc.transform(initFeature['SLD']).T\n",
    "featuresTable['Word Gram_SD']= dict_counts * dict_vc.transform(initFeature['SD']).T"
   ]
  },
  {
   "cell_type": "markdown",
   "id": "da086de2",
   "metadata": {},
   "source": [
    "---\n",
    "Here I have calculated N-Grams for the Domain, Sub-Level Domains and Sub-Domains as extracted in <b>Step 3.1</b>.<br>\n",
    "Without using this for the Sub Domains, accuracy was almost similar as of after using it for Sub Domains. But while using it for sub-domains it gave better output for MLP CLassifier in terms of precision, recall and accuracy.\n",
    "\n",
    "---"
   ]
  },
  {
   "cell_type": "markdown",
   "id": "7bff6e3a",
   "metadata": {},
   "source": [
    "---\n",
    "#### Step 3.3: Processing of features\n",
    "We know that machine learning classifiers requires to have numerical feature values. In so far collected features, there are several values which are not numeric. So, I have created another dataframe containing only the essentially required values from the previous dataframe where extracted features are accomodated.\n",
    "\n",
    "---"
   ]
  },
  {
   "cell_type": "code",
   "execution_count": 18,
   "id": "f8ed7c80",
   "metadata": {},
   "outputs": [],
   "source": [
    "finalFeatures = pd.DataFrame()"
   ]
  },
  {
   "cell_type": "code",
   "execution_count": 19,
   "id": "74338eae",
   "metadata": {
    "scrolled": true
   },
   "outputs": [],
   "source": [
    "finalFeatures['Length of TLD'] = featuresTable['Length of TLD'].astype(float)\n",
    "finalFeatures['Length of SLD'] = featuresTable['Length of SLD'].astype(float)\n",
    "finalFeatures['Nos of SD'] = featuresTable['Number of Subdomains'].astype(float)\n",
    "finalFeatures['Length of SD'] = featuresTable['Length of Subdomains'].astype(float)\n",
    "finalFeatures['Presence of Digits'] = featuresTable['Presence of Digits'].astype(int)\n",
    "finalFeatures['RoD'] = featuresTable['Ratio of Digits'].fillna(0)\n",
    "finalFeatures['RoV'] = featuresTable['Ratio of Vowels'].fillna(0)\n",
    "finalFeatures['RoC'] = featuresTable['Ratio of Consonants'].fillna(0)\n",
    "finalFeatures['Entropy'] = featuresTable['Entropy'].astype(float)\n",
    "finalFeatures['Word Gram_URL'] = featuresTable['Word Gram_URL'].fillna(0)\n",
    "finalFeatures['Word Gram_SLD'] = featuresTable['Word Gram_SLD'].fillna(0)\n",
    "finalFeatures['Word Gram_SD'] = featuresTable['Word Gram_SD'].fillna(0)"
   ]
  },
  {
   "cell_type": "markdown",
   "id": "31a9ee4d",
   "metadata": {},
   "source": [
    "<b>Remarks: </b>I had found several columns with NaN values. So I used dataframe.fillna(0) to replace all NaN values with 0 as NaN values do not work with most of the classifiers.<br>\n",
    "I used the following script to verify if any NaN is remaining in the dataset."
   ]
  },
  {
   "cell_type": "code",
   "execution_count": 20,
   "id": "9c8b393d",
   "metadata": {},
   "outputs": [
    {
     "data": {
      "text/html": [
       "<div>\n",
       "<style scoped>\n",
       "    .dataframe tbody tr th:only-of-type {\n",
       "        vertical-align: middle;\n",
       "    }\n",
       "\n",
       "    .dataframe tbody tr th {\n",
       "        vertical-align: top;\n",
       "    }\n",
       "\n",
       "    .dataframe thead th {\n",
       "        text-align: right;\n",
       "    }\n",
       "</style>\n",
       "<table border=\"1\" class=\"dataframe\">\n",
       "  <thead>\n",
       "    <tr style=\"text-align: right;\">\n",
       "      <th></th>\n",
       "      <th>Length of TLD</th>\n",
       "      <th>Length of SLD</th>\n",
       "      <th>Nos of SD</th>\n",
       "      <th>Length of SD</th>\n",
       "      <th>Presence of Digits</th>\n",
       "      <th>RoD</th>\n",
       "      <th>RoV</th>\n",
       "      <th>RoC</th>\n",
       "      <th>Entropy</th>\n",
       "      <th>Word Gram_URL</th>\n",
       "      <th>Word Gram_SLD</th>\n",
       "      <th>Word Gram_SD</th>\n",
       "    </tr>\n",
       "  </thead>\n",
       "  <tbody>\n",
       "  </tbody>\n",
       "</table>\n",
       "</div>"
      ],
      "text/plain": [
       "Empty DataFrame\n",
       "Columns: [Length of TLD, Length of SLD, Nos of SD, Length of SD, Presence of Digits, RoD, RoV, RoC, Entropy, Word Gram_URL, Word Gram_SLD, Word Gram_SD]\n",
       "Index: []"
      ]
     },
     "execution_count": 20,
     "metadata": {},
     "output_type": "execute_result"
    }
   ],
   "source": [
    "finalFeatures[finalFeatures.isna().any(axis=1)]"
   ]
  },
  {
   "cell_type": "markdown",
   "id": "13ba6c02",
   "metadata": {},
   "source": [
    "<b>Remarks: </b>No more NaN is present now."
   ]
  },
  {
   "cell_type": "markdown",
   "id": "4fbddaad",
   "metadata": {},
   "source": [
    "---\n",
    "### Step 4: Running the Machine Learning Classifiers\n",
    "\n",
    "---"
   ]
  },
  {
   "cell_type": "markdown",
   "id": "e8e86b48",
   "metadata": {},
   "source": [
    "---\n",
    "#### Step 4.1: Splitting the dataset for training and testing\n",
    "---"
   ]
  },
  {
   "cell_type": "code",
   "execution_count": 21,
   "id": "891f740f",
   "metadata": {},
   "outputs": [],
   "source": [
    "X = finalFeatures\n",
    "y = (initFeature['Class']) #pd.get_dummies\n",
    "#y = LabelEncoder().fit_transform(y.astype('str'))"
   ]
  },
  {
   "cell_type": "code",
   "execution_count": 22,
   "id": "c5052421",
   "metadata": {},
   "outputs": [],
   "source": [
    "X_train, X_test, y_train, y_test = train_test_split(X, y, test_size=0.2, random_state=42)"
   ]
  },
  {
   "cell_type": "markdown",
   "id": "1b7acb5f",
   "metadata": {},
   "source": [
    "---\n",
    "Here I have divided the entire dataset into two parts, for training 80% and rest for testing.\n",
    "\n",
    "---"
   ]
  },
  {
   "cell_type": "code",
   "execution_count": 23,
   "id": "0e194c93",
   "metadata": {},
   "outputs": [
    {
     "data": {
      "text/plain": [
       "19200"
      ]
     },
     "execution_count": 23,
     "metadata": {},
     "output_type": "execute_result"
    }
   ],
   "source": [
    "y_train.count()"
   ]
  },
  {
   "cell_type": "code",
   "execution_count": 24,
   "id": "40b1841b",
   "metadata": {},
   "outputs": [
    {
     "data": {
      "text/plain": [
       "4800"
      ]
     },
     "execution_count": 24,
     "metadata": {},
     "output_type": "execute_result"
    }
   ],
   "source": [
    "y_test.count()"
   ]
  },
  {
   "cell_type": "markdown",
   "id": "a7117865",
   "metadata": {},
   "source": [
    "---\n",
    "From above two cells it is clearly proved that the dataset has been properly divided into training and test dataset.\n",
    "\n",
    "---"
   ]
  },
  {
   "cell_type": "markdown",
   "id": "a72a5905",
   "metadata": {},
   "source": [
    "---\n",
    "### Step 5: Logistic Regression Classifier\n",
    "\n",
    "---"
   ]
  },
  {
   "cell_type": "code",
   "execution_count": 25,
   "id": "0396f4f5",
   "metadata": {},
   "outputs": [],
   "source": [
    "clf1 = LogisticRegression(random_state=42)"
   ]
  },
  {
   "cell_type": "markdown",
   "id": "979f4764",
   "metadata": {},
   "source": [
    "---\n",
    "#### Step 5.1: Fitting the training set in the classifier\n",
    "\n",
    "---"
   ]
  },
  {
   "cell_type": "code",
   "execution_count": 26,
   "id": "31853751",
   "metadata": {},
   "outputs": [
    {
     "name": "stderr",
     "output_type": "stream",
     "text": [
      "/Users/peash/opt/anaconda3/lib/python3.9/site-packages/sklearn/linear_model/_logistic.py:814: ConvergenceWarning: lbfgs failed to converge (status=1):\n",
      "STOP: TOTAL NO. of ITERATIONS REACHED LIMIT.\n",
      "\n",
      "Increase the number of iterations (max_iter) or scale the data as shown in:\n",
      "    https://scikit-learn.org/stable/modules/preprocessing.html\n",
      "Please also refer to the documentation for alternative solver options:\n",
      "    https://scikit-learn.org/stable/modules/linear_model.html#logistic-regression\n",
      "  n_iter_i = _check_optimize_result(\n"
     ]
    },
    {
     "data": {
      "text/plain": [
       "LogisticRegression(random_state=42)"
      ]
     },
     "execution_count": 26,
     "metadata": {},
     "output_type": "execute_result"
    }
   ],
   "source": [
    "clf1.fit(X_train, y_train)"
   ]
  },
  {
   "cell_type": "markdown",
   "id": "50696042",
   "metadata": {},
   "source": [
    "---\n",
    "#### Step 5.2: Prediction From The Test Dataset\n",
    "\n",
    "---"
   ]
  },
  {
   "cell_type": "code",
   "execution_count": 27,
   "id": "97df527e",
   "metadata": {},
   "outputs": [],
   "source": [
    "predicted1 = clf1.predict(X_test)"
   ]
  },
  {
   "cell_type": "markdown",
   "id": "8ca430aa",
   "metadata": {},
   "source": [
    "---\n",
    "#### Step 5.3: Accuracy Score\n",
    "\n",
    "---"
   ]
  },
  {
   "cell_type": "code",
   "execution_count": 28,
   "id": "98a95797",
   "metadata": {},
   "outputs": [
    {
     "data": {
      "text/plain": [
       "0.5397916666666667"
      ]
     },
     "execution_count": 28,
     "metadata": {},
     "output_type": "execute_result"
    }
   ],
   "source": [
    "accuracy_score(y_test, predicted1)"
   ]
  },
  {
   "cell_type": "markdown",
   "id": "b7dd12f5",
   "metadata": {},
   "source": [
    "---\n",
    "#### Step 5.4: Classification Report\n",
    "\n",
    "---"
   ]
  },
  {
   "cell_type": "code",
   "execution_count": 29,
   "id": "2087fe63",
   "metadata": {},
   "outputs": [
    {
     "name": "stdout",
     "output_type": "stream",
     "text": [
      "Classification report for classifier LogisticRegression(random_state=42):\n",
      "              precision    recall  f1-score   support\n",
      "\n",
      "     banjori       0.81      0.94      0.87       175\n",
      "      benign       0.58      0.62      0.60       190\n",
      "      emotet       0.39      0.88      0.54       193\n",
      "      flubot       0.00      0.00      0.00       208\n",
      "    gameover       0.89      0.99      0.94       211\n",
      "       locky       0.02      0.01      0.02       214\n",
      "     murofet       0.32      0.07      0.11       207\n",
      "      mydoom       0.43      0.26      0.33       201\n",
      "       necro       0.76      0.98      0.85       198\n",
      "      necurs       0.21      0.33      0.26       199\n",
      "     ngioweb       0.76      0.59      0.67       202\n",
      "   pykspa_v1       0.39      0.38      0.39       204\n",
      "      qadars       0.62      0.21      0.31       193\n",
      "      qakbot       0.21      0.31      0.25       199\n",
      "      ramnit       0.18      0.18      0.18       177\n",
      "     ranbyus       0.28      0.17      0.21       186\n",
      "      rovnix       0.91      0.91      0.91       216\n",
      "       shifu       0.80      1.00      0.89       202\n",
      "     shiotob       0.48      0.71      0.57       197\n",
      "       simda       0.54      0.79      0.64       194\n",
      "    suppobox       0.74      0.69      0.71       205\n",
      "       symmi       0.98      1.00      0.99       200\n",
      "       tinba       0.18      0.15      0.16       231\n",
      "       virut       0.80      0.87      0.83       198\n",
      "\n",
      "    accuracy                           0.54      4800\n",
      "   macro avg       0.51      0.54      0.51      4800\n",
      "weighted avg       0.51      0.54      0.51      4800\n",
      "\n",
      "\n"
     ]
    }
   ],
   "source": [
    "print(\n",
    "    f\"Classification report for classifier {clf1}:\\n\"\n",
    "    f\"{classification_report(y_test, predicted1)}\\n\"\n",
    ")"
   ]
  },
  {
   "cell_type": "markdown",
   "id": "25e37f50",
   "metadata": {},
   "source": [
    "---\n",
    "\n",
    "<b>Analysis from Classification Report:</b><br> By using the features, Logistic Regression classifier with random-state=42, is providing <b>accuracy</b> of <b>54%</b>. <br>\n",
    "Maximum <b>precision</b> of <b>98%</b> and minimum of <b>0%</b> for <b>symmi</b> family and <b>flubot</b> family.<br>\n",
    "For <b>benign</b> family it is providing <b>58%</b> precision with <b>62%</b> recall and <b>60%</b> F1-score.<br>\n",
    "Considering the recall it is giving <b>100%</b> for 2 families and more than <b>90%</b> for 4 other families among the 24 families.\n",
    "    \n",
    "\n",
    "---"
   ]
  },
  {
   "cell_type": "markdown",
   "id": "0fab0104",
   "metadata": {},
   "source": [
    "---\n",
    "#### Step 5.5: Confusion Matrix\n",
    "\n",
    "---"
   ]
  },
  {
   "cell_type": "code",
   "execution_count": 30,
   "id": "5267250e",
   "metadata": {
    "scrolled": true
   },
   "outputs": [],
   "source": [
    "#disp = ConfusionMatrixDisplay.from_predictions(y_test, predicted1)\n",
    "\n",
    "#disp.figure_.suptitle(\"Confusion Matrix for Logistic Regression\")\n",
    "#print(f\"Confusion matrix for logistic regression:\\n{disp.confusion_matrix}\")\n",
    "\n",
    "#plt.show()"
   ]
  },
  {
   "cell_type": "code",
   "execution_count": 31,
   "id": "dee1d3c5",
   "metadata": {},
   "outputs": [
    {
     "name": "stderr",
     "output_type": "stream",
     "text": [
      "/Users/peash/opt/anaconda3/lib/python3.9/site-packages/sklearn/utils/deprecation.py:87: FutureWarning: Function plot_confusion_matrix is deprecated; Function `plot_confusion_matrix` is deprecated in 1.0 and will be removed in 1.2. Use one of the class methods: ConfusionMatrixDisplay.from_predictions or ConfusionMatrixDisplay.from_estimator.\n",
      "  warnings.warn(msg, category=FutureWarning)\n"
     ]
    },
    {
     "data": {
      "image/png": "[encoded data removed]",
      "text/plain": [
       "<Figure size 1440x1440 with 2 Axes>"
      ]
     },
     "metadata": {
      "needs_background": "light"
     },
     "output_type": "display_data"
    }
   ],
   "source": [
    "fig, ax = plt.subplots(figsize=(20, 20))\n",
    "plot_confusion_matrix(clf1, X_test, y_test, cmap=plt.cm.Blues, ax=ax)\n",
    "plt.show()"
   ]
  },
  {
   "cell_type": "markdown",
   "id": "b3c7e209",
   "metadata": {},
   "source": [
    "---\n",
    "From the above <b>Confusion Matrix</b>, it is clearly shown how much accurate predictions and wrong predictions were made by the classifier from te test data set based on the features extracted.\n",
    "\n",
    "---"
   ]
  },
  {
   "cell_type": "markdown",
   "id": "5ae000fe",
   "metadata": {},
   "source": [
    "---\n",
    "### Step 6: Random Forest Classifier\n",
    "\n",
    "---"
   ]
  },
  {
   "cell_type": "code",
   "execution_count": 32,
   "id": "afad2871",
   "metadata": {},
   "outputs": [],
   "source": [
    "clf2 = RandomForestClassifier(max_depth=100, random_state=42)"
   ]
  },
  {
   "cell_type": "markdown",
   "id": "e1a5b570",
   "metadata": {},
   "source": [
    "---\n",
    "#### Step 6.1: Fitting the training set in the classifier\n",
    "\n",
    "---"
   ]
  },
  {
   "cell_type": "code",
   "execution_count": 33,
   "id": "62e1c854",
   "metadata": {},
   "outputs": [
    {
     "data": {
      "text/plain": [
       "RandomForestClassifier(max_depth=100, random_state=42)"
      ]
     },
     "execution_count": 33,
     "metadata": {},
     "output_type": "execute_result"
    }
   ],
   "source": [
    "clf2.fit(X_train, y_train)"
   ]
  },
  {
   "cell_type": "markdown",
   "id": "1874217b",
   "metadata": {},
   "source": [
    "---\n",
    "#### Step 6.2: Prediction from the test set\n",
    "\n",
    "---"
   ]
  },
  {
   "cell_type": "code",
   "execution_count": 34,
   "id": "6266f4c0",
   "metadata": {},
   "outputs": [],
   "source": [
    "predicted2 = clf2.predict(X_test)"
   ]
  },
  {
   "cell_type": "markdown",
   "id": "d3ae6cd2",
   "metadata": {},
   "source": [
    "---\n",
    "#### Step 6.3: Accuracy score\n",
    "\n",
    "---"
   ]
  },
  {
   "cell_type": "code",
   "execution_count": 35,
   "id": "7a82fe47",
   "metadata": {},
   "outputs": [
    {
     "data": {
      "text/plain": [
       "0.8214583333333333"
      ]
     },
     "execution_count": 35,
     "metadata": {},
     "output_type": "execute_result"
    }
   ],
   "source": [
    "accuracy_score(y_test, predicted2)"
   ]
  },
  {
   "cell_type": "markdown",
   "id": "e0acfc6d",
   "metadata": {},
   "source": [
    "---\n",
    "#### Step 6.4: Classification report\n",
    "\n",
    "---"
   ]
  },
  {
   "cell_type": "code",
   "execution_count": 36,
   "id": "62cf0e91",
   "metadata": {},
   "outputs": [
    {
     "name": "stdout",
     "output_type": "stream",
     "text": [
      "Classification report for classifier RandomForestClassifier(max_depth=100, random_state=42):\n",
      "              precision    recall  f1-score   support\n",
      "\n",
      "     banjori       0.99      1.00      1.00       175\n",
      "      benign       0.74      0.66      0.70       190\n",
      "      emotet       0.92      0.99      0.95       193\n",
      "      flubot       0.81      0.80      0.81       208\n",
      "    gameover       1.00      1.00      1.00       211\n",
      "       locky       0.48      0.34      0.40       214\n",
      "     murofet       0.60      0.73      0.66       207\n",
      "      mydoom       0.86      0.93      0.89       201\n",
      "       necro       0.87      0.93      0.90       198\n",
      "      necurs       0.59      0.43      0.50       199\n",
      "     ngioweb       0.89      0.85      0.87       202\n",
      "   pykspa_v1       0.84      0.84      0.84       204\n",
      "      qadars       0.91      0.95      0.93       193\n",
      "      qakbot       0.55      0.49      0.52       199\n",
      "      ramnit       0.39      0.35      0.37       177\n",
      "     ranbyus       0.79      0.91      0.84       186\n",
      "      rovnix       1.00      0.98      0.99       216\n",
      "       shifu       0.98      0.99      0.99       202\n",
      "     shiotob       0.93      0.83      0.87       197\n",
      "       simda       0.92      0.97      0.94       194\n",
      "    suppobox       0.74      0.85      0.79       205\n",
      "       symmi       1.00      1.00      1.00       200\n",
      "       tinba       0.80      0.92      0.86       231\n",
      "       virut       0.91      0.95      0.93       198\n",
      "\n",
      "    accuracy                           0.82      4800\n",
      "   macro avg       0.81      0.82      0.81      4800\n",
      "weighted avg       0.81      0.82      0.82      4800\n",
      "\n",
      "\n"
     ]
    }
   ],
   "source": [
    "print(\n",
    "    f\"Classification report for classifier {clf2}:\\n\"\n",
    "    f\"{classification_report(y_test, predicted2)}\\n\"\n",
    ")"
   ]
  },
  {
   "cell_type": "markdown",
   "id": "fab80df3",
   "metadata": {},
   "source": [
    "---\n",
    "\n",
    "<b>Analysis from Classification Report:</b><br> By using the features, Random Forest Classifier with max-depth=100 and random-state=42, is providing <b>accuracy</b> of <b>82%</b>. <br>\n",
    "Maximum <b>precision</b> of <b>100%</b> for <b>gameover</b>, <b>rovnix</b> and <b>symmi</b> and minimum of <b>48%</b> for <b>locky</b> family.<br>\n",
    "For <b>benign</b> family it is providing <b>74%</b> precision with <b>66%</b> recall and <b>70%</b> F1-score.<br>\n",
    "Considering the recall it is giving <b>100%</b> for 3 families and more than <b>90%</b> for 10 other families among the 24 families.\n",
    "    \n",
    "\n",
    "---"
   ]
  },
  {
   "cell_type": "markdown",
   "id": "d7811d69",
   "metadata": {},
   "source": [
    "---\n",
    "#### Step 6.5: Confusion matrix\n",
    "\n",
    "---"
   ]
  },
  {
   "cell_type": "code",
   "execution_count": 37,
   "id": "8a85048e",
   "metadata": {},
   "outputs": [],
   "source": [
    "#disp = ConfusionMatrixDisplay.from_predictions(y_test, predicted2)\n",
    "\n",
    "#disp.figure_.suptitle(\"Confusion Matrix for Random Forest\")\n",
    "#print(f\"Confusion matrix:\\n{disp.confusion_matrix}\")\n",
    "\n",
    "#plt.show()"
   ]
  },
  {
   "cell_type": "code",
   "execution_count": 38,
   "id": "6af87251",
   "metadata": {},
   "outputs": [
    {
     "name": "stderr",
     "output_type": "stream",
     "text": [
      "/Users/peash/opt/anaconda3/lib/python3.9/site-packages/sklearn/utils/deprecation.py:87: FutureWarning: Function plot_confusion_matrix is deprecated; Function `plot_confusion_matrix` is deprecated in 1.0 and will be removed in 1.2. Use one of the class methods: ConfusionMatrixDisplay.from_predictions or ConfusionMatrixDisplay.from_estimator.\n",
      "  warnings.warn(msg, category=FutureWarning)\n"
     ]
    },
    {
     "data": {
      "image/png": "[encoded data removed]",
      "text/plain": [
       "<Figure size 1440x1440 with 2 Axes>"
      ]
     },
     "metadata": {
      "needs_background": "light"
     },
     "output_type": "display_data"
    }
   ],
   "source": [
    "fig, ax = plt.subplots(figsize=(20, 20))\n",
    "plot_confusion_matrix(clf2, X_test, y_test, cmap=plt.cm.Blues, ax=ax)\n",
    "plt.show()"
   ]
  },
  {
   "cell_type": "markdown",
   "id": "8593d227",
   "metadata": {},
   "source": [
    "---\n",
    "From the above <b>Confusion Matrix</b>, it is clearly shown how much accurate predictions and wrong predictions were made by the classifier from te test data set based on the features extracted.\n",
    "\n",
    "---"
   ]
  },
  {
   "cell_type": "markdown",
   "id": "b02c5c50",
   "metadata": {},
   "source": [
    "---\n",
    "### Step 7: MLP Classifier\n",
    "\n",
    "---"
   ]
  },
  {
   "cell_type": "code",
   "execution_count": 39,
   "id": "d3bcb8af",
   "metadata": {},
   "outputs": [],
   "source": [
    "clf3 = MLPClassifier(random_state=42, max_iter=300)"
   ]
  },
  {
   "cell_type": "markdown",
   "id": "0b9b8885",
   "metadata": {},
   "source": [
    "---\n",
    "#### Step 7.1: Fitting the training set in the classifier\n",
    "\n",
    "---"
   ]
  },
  {
   "cell_type": "code",
   "execution_count": 40,
   "id": "08caf451",
   "metadata": {},
   "outputs": [
    {
     "data": {
      "text/plain": [
       "MLPClassifier(max_iter=300, random_state=42)"
      ]
     },
     "execution_count": 40,
     "metadata": {},
     "output_type": "execute_result"
    }
   ],
   "source": [
    "clf3.fit(X_train, y_train)"
   ]
  },
  {
   "cell_type": "markdown",
   "id": "7f3050bc",
   "metadata": {},
   "source": [
    "---\n",
    "#### Step 7.2: Prediction from the test set\n",
    "\n",
    "---"
   ]
  },
  {
   "cell_type": "code",
   "execution_count": 41,
   "id": "30eddb93",
   "metadata": {},
   "outputs": [],
   "source": [
    "predicted3 = clf3.predict(X_test)"
   ]
  },
  {
   "cell_type": "markdown",
   "id": "9e1cebac",
   "metadata": {},
   "source": [
    "---\n",
    "#### Step 7.3: Accuracy score\n",
    "\n",
    "---"
   ]
  },
  {
   "cell_type": "code",
   "execution_count": 42,
   "id": "2cf50874",
   "metadata": {},
   "outputs": [
    {
     "data": {
      "text/plain": [
       "0.8595833333333334"
      ]
     },
     "execution_count": 42,
     "metadata": {},
     "output_type": "execute_result"
    }
   ],
   "source": [
    "accuracy_score(y_test, predicted3)"
   ]
  },
  {
   "cell_type": "markdown",
   "id": "22b58c22",
   "metadata": {},
   "source": [
    "---\n",
    "#### Step 7.4: Classification report\n",
    "\n",
    "---"
   ]
  },
  {
   "cell_type": "code",
   "execution_count": 43,
   "id": "d4fb6fd4",
   "metadata": {},
   "outputs": [
    {
     "name": "stdout",
     "output_type": "stream",
     "text": [
      "Classification report for classifier MLPClassifier(max_iter=300, random_state=42):\n",
      "              precision    recall  f1-score   support\n",
      "\n",
      "     banjori       0.99      0.98      0.99       175\n",
      "      benign       0.85      0.67      0.75       190\n",
      "      emotet       0.92      1.00      0.96       193\n",
      "      flubot       0.80      0.97      0.88       208\n",
      "    gameover       1.00      1.00      1.00       211\n",
      "       locky       0.59      0.57      0.58       214\n",
      "     murofet       0.67      0.81      0.73       207\n",
      "      mydoom       0.86      0.98      0.91       201\n",
      "       necro       0.99      1.00      0.99       198\n",
      "      necurs       0.83      0.28      0.42       199\n",
      "     ngioweb       0.91      0.84      0.87       202\n",
      "   pykspa_v1       0.78      0.76      0.77       204\n",
      "      qadars       0.93      0.97      0.95       193\n",
      "      qakbot       0.70      0.51      0.59       199\n",
      "      ramnit       0.68      0.56      0.62       177\n",
      "     ranbyus       0.81      1.00      0.89       186\n",
      "      rovnix       1.00      0.98      0.99       216\n",
      "       shifu       1.00      1.00      1.00       202\n",
      "     shiotob       1.00      0.84      0.91       197\n",
      "       simda       0.91      0.98      0.95       194\n",
      "    suppobox       0.73      0.92      0.81       205\n",
      "       symmi       1.00      1.00      1.00       200\n",
      "       tinba       0.80      0.99      0.88       231\n",
      "       virut       0.95      0.97      0.96       198\n",
      "\n",
      "    accuracy                           0.86      4800\n",
      "   macro avg       0.86      0.86      0.85      4800\n",
      "weighted avg       0.86      0.86      0.85      4800\n",
      "\n",
      "\n"
     ]
    }
   ],
   "source": [
    "print(\n",
    "    f\"Classification report for classifier {clf3}:\\n\"\n",
    "    f\"{classification_report(y_test, predicted3)}\\n\"\n",
    ")"
   ]
  },
  {
   "cell_type": "markdown",
   "id": "0063fe82",
   "metadata": {},
   "source": [
    "---\n",
    "\n",
    "<b>Analysis from Classification Report:</b><br> By using the features, MLP Classifier with random-state=42 and max-iter=300, is providing, <b>accuracy</b> of <b>86%</b>. <br>\n",
    "Maximum <b>precision</b> of <b>100%</b> for <b>gameover</b>, <b>rovnix</b>, <b>shifu</b>, <b>shiotob</b> and <b>symmi</b> and minimum of <b>59%</b> for <b>locky</b> family.<br>\n",
    "For <b>benign</b> family it is providing <b>85%</b> precision with <b>67%</b> recall and <b>75%</b> F1-score.<br>\n",
    "Considering the recall it is giving <b>100%</b> for 6 families and more than <b>90%</b> for 9 other families among the 24 families.\n",
    "    \n",
    "\n",
    "---"
   ]
  },
  {
   "cell_type": "markdown",
   "id": "abd3873d",
   "metadata": {},
   "source": [
    "---\n",
    "#### Step 7.5: Confusion matrix\n",
    "\n",
    "---"
   ]
  },
  {
   "cell_type": "code",
   "execution_count": 44,
   "id": "5d7bf3f5",
   "metadata": {},
   "outputs": [],
   "source": [
    "#disp = ConfusionMatrixDisplay.from_predictions(y_test, predicted3)\n",
    "\n",
    "#disp.figure_.suptitle(\"Confusion Matrix for MLP\")\n",
    "#print(f\"Confusion matrix:\\n{disp.confusion_matrix}\")\n",
    "\n",
    "#plt.show()"
   ]
  },
  {
   "cell_type": "code",
   "execution_count": 45,
   "id": "86195441",
   "metadata": {},
   "outputs": [
    {
     "name": "stderr",
     "output_type": "stream",
     "text": [
      "/Users/peash/opt/anaconda3/lib/python3.9/site-packages/sklearn/utils/deprecation.py:87: FutureWarning: Function plot_confusion_matrix is deprecated; Function `plot_confusion_matrix` is deprecated in 1.0 and will be removed in 1.2. Use one of the class methods: ConfusionMatrixDisplay.from_predictions or ConfusionMatrixDisplay.from_estimator.\n",
      "  warnings.warn(msg, category=FutureWarning)\n"
     ]
    },
    {
     "data": {
      "image/png": "[encoded data removed]",
      "text/plain": [
       "<Figure size 1440x1440 with 2 Axes>"
      ]
     },
     "metadata": {
      "needs_background": "light"
     },
     "output_type": "display_data"
    }
   ],
   "source": [
    "fig, ax = plt.subplots(figsize=(20, 20))\n",
    "plot_confusion_matrix(clf3, X_test, y_test, cmap=plt.cm.Blues, ax=ax)\n",
    "plt.show()"
   ]
  },
  {
   "cell_type": "markdown",
   "id": "c189095c",
   "metadata": {},
   "source": [
    "---\n",
    "From the above <b>Confusion Matrix</b>, it is clearly shown how much accurate predictions and wrong predictions were made by the classifier from te test data set based on the features extracted.\n",
    "\n",
    "---"
   ]
  },
  {
   "cell_type": "code",
   "execution_count": 46,
   "id": "fd4de163",
   "metadata": {},
   "outputs": [
    {
     "data": {
      "text/html": [
       "<div>\n",
       "<style scoped>\n",
       "    .dataframe tbody tr th:only-of-type {\n",
       "        vertical-align: middle;\n",
       "    }\n",
       "\n",
       "    .dataframe tbody tr th {\n",
       "        vertical-align: top;\n",
       "    }\n",
       "\n",
       "    .dataframe thead th {\n",
       "        text-align: right;\n",
       "    }\n",
       "</style>\n",
       "<table border=\"1\" class=\"dataframe\">\n",
       "  <thead>\n",
       "    <tr style=\"text-align: right;\">\n",
       "      <th></th>\n",
       "      <th>Domain</th>\n",
       "    </tr>\n",
       "    <tr>\n",
       "      <th>Family</th>\n",
       "      <th></th>\n",
       "    </tr>\n",
       "  </thead>\n",
       "  <tbody>\n",
       "    <tr>\n",
       "      <th>banjori</th>\n",
       "      <td>1000</td>\n",
       "    </tr>\n",
       "    <tr>\n",
       "      <th>benign</th>\n",
       "      <td>1000</td>\n",
       "    </tr>\n",
       "    <tr>\n",
       "      <th>emotet</th>\n",
       "      <td>1000</td>\n",
       "    </tr>\n",
       "    <tr>\n",
       "      <th>flubot</th>\n",
       "      <td>1000</td>\n",
       "    </tr>\n",
       "    <tr>\n",
       "      <th>gameover</th>\n",
       "      <td>1000</td>\n",
       "    </tr>\n",
       "  </tbody>\n",
       "</table>\n",
       "</div>"
      ],
      "text/plain": [
       "          Domain\n",
       "Family          \n",
       "banjori     1000\n",
       "benign      1000\n",
       "emotet      1000\n",
       "flubot      1000\n",
       "gameover    1000"
      ]
     },
     "execution_count": 46,
     "metadata": {},
     "output_type": "execute_result"
    }
   ],
   "source": [
    "df.groupby(['Family']).count().head()"
   ]
  },
  {
   "cell_type": "markdown",
   "id": "9567c9fb",
   "metadata": {},
   "source": [
    "---\n",
    "##### Observation and Conclusion: <br>\n",
    "\n",
    "    1. For the Logistic Regression Classifier, the accuracy, precision, recall and f1-score value is comparatively far less.\n",
    "    2. I have used max-iter=300, 600 and 900 and with every increase of iteration the values of performance metrics have increased.\n",
    "    3. As these classifiers will be detecting DGA generated domains, the detetcion of benign family is very important. Otherwise the benign domains will be detected as DGA.\n",
    "    4. The dataset we are given with is a balanced dataset as shown above. All the classes or families have equal quantity of rows. As there are several performance metrics, such as, accuracy, precision, recall and f1-score, to determine the performance of the used classifiers, accuracy is a good metric for that (Toshniwal, 2020)(Lanier, 2020).\n",
    "    5. Based on the accuracy, the best model for deteting DGA URLs is the MLP Classifier. After that the Random Forest and lastly the Logistic Regression.\n",
    "    6. Few more changes with the feature selection might have impact on the performance of the classifiers.\n",
    "    7. Besides the features used here, I have used valid TLD list for checking the presence of any invalid TLDs. But hte list I used did not have any effect on any of the classifiers.\n",
    "\n",
    "\n",
    "---"
   ]
  },
  {
   "cell_type": "markdown",
   "id": "32462744",
   "metadata": {},
   "source": [
    "### References\n",
    "\n",
    "Ikwu, R.E. (2021) Extracting Feature Vectors From URL Strings For Malicious URL Detection Medium.20 August 2021 [online]. Available from: https://towardsdatascience.com/extracting-feature-vectors-from-url-strings-for-malicious-url-detection-cbafc24737a [Accessed 29 March 2022].\n",
    "Lanier, S.T. (2020) Choosing Performance Metrics Medium.10 December 2020 [online]. Available from: https://towardsdatascience.com/choosing-performance-metrics-61b40819eae1 [Accessed 15 May 2022].\n",
    "Sconzo, M. (2022) data_hacking GitHub.5 May 2022 [online]. Available from: https://github.com/SuperCowPowers/data_hacking/blob/master/dga_detection/DGA_Domain_Detection.ipynb [Accessed 28 March 2022].\n",
    "SKLearn (2018) sklearn.feature_extraction.text.CountVectorizer — scikit-learn 0.20.3 documentation Scikit-learn.org.2018 [online]. Available from: https://scikit-learn.org/stable/modules/generated/sklearn.feature_extraction.text.CountVectorizer.html [Accessed 28 March 2022].\n",
    "Toshniwal, R. (2020) How to select Performance Metrics for Classification Models Medium.21 January 2020 [online]. Available from: https://medium.com/analytics-vidhya/how-to-select-performance-metrics-for-classification-models-c847fe6b1ea3 [Accessed 15 May 2022].\n",
    "Zhang, H., Zhou, L. and Dai, S. (2022) DGA_Detection/DGA Detection with Spark MLlib.ipynb at master · hmaccelerate/DGA_Detection GitHub.2022 [online]. Available from: https://github.com/hmaccelerate/DGA_Detection/blob/master/DGA%20Detection%20with%20Spark%20MLlib.ipynb [Accessed 30 March 2022]."
   ]
  },
  
  {
   "cell_type": "code",
   "execution_count": null,
   "id": "17b8cc14",
   "metadata": {},
   "outputs": [],
   "source": []
  }
 ],
 "metadata": {
  "kernelspec": {
   "display_name": "Python 3 (ipykernel)",
   "language": "python",
   "name": "python3"
  },
  "language_info": {
   "codemirror_mode": {
    "name": "ipython",
    "version": 3
   },
   "file_extension": ".py",
   "mimetype": "text/x-python",
   "name": "python",
   "nbconvert_exporter": "python",
   "pygments_lexer": "ipython3",
   "version": "3.9.7"
  }
 },
 "nbformat": 4,
 "nbformat_minor": 5
}
